{
 "cells": [
  {
   "cell_type": "markdown",
   "metadata": {},
   "source": [
    "# <font color='red'>練習1：替換字元練習，請使用replace將 The lyrics is not that poor! 變更為 The lyrics is good!"
   ]
  },
  {
   "cell_type": "markdown",
   "metadata": {},
   "source": [
    "# <font color='green'>ANS:"
   ]
  },
  {
   "cell_type": "code",
   "execution_count": 18,
   "metadata": {},
   "outputs": [
    {
     "name": "stdout",
     "output_type": "stream",
     "text": [
      "The lyrics is good!\n"
     ]
    }
   ],
   "source": [
    "s = 'The lyrics is not that poor!'\n",
    "print(s.replace('not that poor', 'good'))"
   ]
  },
  {
   "cell_type": "markdown",
   "metadata": {},
   "source": [
    "# <font color='red'>練習2：替換字元練習，請使用find將 The lyrics is not that poor! 變更為 The lyrics is good!"
   ]
  },
  {
   "cell_type": "markdown",
   "metadata": {},
   "source": [
    "# <font color='green'>ANS:"
   ]
  },
  {
   "cell_type": "code",
   "execution_count": 11,
   "metadata": {},
   "outputs": [
    {
     "name": "stdout",
     "output_type": "stream",
     "text": [
      "The lyrics is good!\n"
     ]
    }
   ],
   "source": [
    "# <font color='green'>ANS:s = 'The lyrics is not that poor!'\n",
    "print(s[0:s.find('not')] + 'good' + s[s.find('poor')+4:])"
   ]
  },
  {
   "cell_type": "markdown",
   "metadata": {},
   "source": [
    "# <font color='blue'>ANS拆解說明"
   ]
  },
  {
   "cell_type": "code",
   "execution_count": 34,
   "metadata": {},
   "outputs": [
    {
     "name": "stdout",
     "output_type": "stream",
     "text": [
      "The lyrics is \n"
     ]
    }
   ],
   "source": [
    "print(s[0:s.find('not')])  # 取第0字元到'not'為止"
   ]
  },
  {
   "cell_type": "code",
   "execution_count": 39,
   "metadata": {},
   "outputs": [
    {
     "name": "stdout",
     "output_type": "stream",
     "text": [
      "!\n"
     ]
    }
   ],
   "source": [
    "print(s[s.find('poor')+4:]) #找‘poor’的第4位元以後"
   ]
  },
  {
   "cell_type": "markdown",
   "metadata": {},
   "source": [
    "# <font color='red'>練習3：替換字元練習，請使用split將 The lyrics is not that poor! 變更為 The lyrics is good!"
   ]
  },
  {
   "cell_type": "markdown",
   "metadata": {},
   "source": [
    "# <font color='green'>ANS：%s 格式化字串，取%(  )內的字元"
   ]
  },
  {
   "cell_type": "code",
   "execution_count": 2,
   "metadata": {},
   "outputs": [
    {
     "name": "stdout",
     "output_type": "stream",
     "text": [
      "The lyrics is good!\n"
     ]
    }
   ],
   "source": [
    "s = 'The lyrics is not that poor!'\n",
    "print('%s%s%s' % (s.split('not')[0], 'good', s.split('poor')[1]))"
   ]
  },
  {
   "cell_type": "markdown",
   "metadata": {},
   "source": [
    "# <font color='blue'>ANS拆解說明"
   ]
  },
  {
   "cell_type": "code",
   "execution_count": 42,
   "metadata": {},
   "outputs": [
    {
     "name": "stdout",
     "output_type": "stream",
     "text": [
      "['The lyrics is ', ' that poor!']\n"
     ]
    }
   ],
   "source": [
    "print(s.split('not'))"
   ]
  },
  {
   "cell_type": "code",
   "execution_count": 43,
   "metadata": {},
   "outputs": [
    {
     "name": "stdout",
     "output_type": "stream",
     "text": [
      "The lyrics is \n"
     ]
    }
   ],
   "source": [
    "print(s.split('not')[0])"
   ]
  },
  {
   "cell_type": "code",
   "execution_count": 45,
   "metadata": {},
   "outputs": [
    {
     "name": "stdout",
     "output_type": "stream",
     "text": [
      "['The lyrics is not that ', '!']\n"
     ]
    }
   ],
   "source": [
    "print(s.split('poor'))"
   ]
  },
  {
   "cell_type": "code",
   "execution_count": 3,
   "metadata": {
    "scrolled": true
   },
   "outputs": [
    {
     "name": "stdout",
     "output_type": "stream",
     "text": [
      "!\n"
     ]
    }
   ],
   "source": [
    "print(s.split('poor')[1])"
   ]
  },
  {
   "cell_type": "markdown",
   "metadata": {},
   "source": [
    "# <font color='red'>練習4：一個網址的結構大概如圖所示，試著用 Python  分別把每個值取出來。"
   ]
  },
  {
   "cell_type": "markdown",
   "metadata": {},
   "source": [
    "<font color='red'>protocol = a scheme for exchanging information ,https\n",
    "\n",
    "<font color='red'>domain = identifies a server\n",
    "\n",
    "<font color='red'>port = optional number for the protocol to use\n",
    "\n",
    "<font color='red'>path = specifies a file on the server\n",
    "\n",
    "<font color='red'>fragment = specifies a location within the file"
   ]
  },
  {
   "cell_type": "markdown",
   "metadata": {},
   "source": [
    "# <font color='green'>ANS："
   ]
  },
  {
   "cell_type": "code",
   "execution_count": 19,
   "metadata": {},
   "outputs": [
    {
     "name": "stdout",
     "output_type": "stream",
     "text": [
      "protocol : https\n",
      "domain : www.trivago.com.tw\n",
      "port : 3000\n",
      "path : search\n",
      "fragment : taipei\n"
     ]
    }
   ],
   "source": [
    "url = 'https://www.trivago.com.tw:3000/search#taipei'\n",
    "\n",
    "protocol = url.split(':')[0]\n",
    "domain = url.split('://')[1].split(':')[0]\n",
    "port = url.split(':')[2].split('/')[0]\n",
    "path = url.split('#')[0].replace('protocol', '').replace(protocol, '').replace(domain, '').replace(port, '').replace(':', '').replace('/', '')\n",
    "fragment = url.split('#')[1]\n",
    "\n",
    "print('protocol : %s' % (protocol)) # https\n",
    "print('domain : %s' % (domain)) # www.trivago.com.tw:\n",
    "print('port : %s' % (port)) # 3000\n",
    "print('path : %s' % (path)) # search\n",
    "print('fragment : %s' % (fragment)) # taipei"
   ]
  },
  {
   "cell_type": "markdown",
   "metadata": {},
   "source": [
    "# <font color='blue'>ANS拆解說明"
   ]
  },
  {
   "cell_type": "code",
   "execution_count": 50,
   "metadata": {},
   "outputs": [
    {
     "data": {
      "text/plain": [
       "['https', '//www.trivago.com.tw', '3000/search#taipei']"
      ]
     },
     "execution_count": 50,
     "metadata": {},
     "output_type": "execute_result"
    }
   ],
   "source": [
    "url.split(':') # split 切割字元"
   ]
  },
  {
   "cell_type": "code",
   "execution_count": 48,
   "metadata": {},
   "outputs": [
    {
     "data": {
      "text/plain": [
       "['https', 'www.trivago.com.tw:3000/search#taipei']"
      ]
     },
     "execution_count": 48,
     "metadata": {},
     "output_type": "execute_result"
    }
   ],
   "source": [
    "url.split('://') # split 切割字元"
   ]
  },
  {
   "cell_type": "code",
   "execution_count": 56,
   "metadata": {},
   "outputs": [
    {
     "data": {
      "text/plain": [
       "'httpswww.trivago.com.tw3000search'"
      ]
     },
     "execution_count": 56,
     "metadata": {},
     "output_type": "execute_result"
    }
   ],
   "source": [
    "url.split('#')[0].replace(':', '').replace('/', '') #replace取代字元"
   ]
  },
  {
   "cell_type": "markdown",
   "metadata": {},
   "source": [
    "# <font color='red'>練習5：[1, 2, 3, 4, 5, 6, 7, 8, 9, 0] 變成 [0, 1, 2, 3, 4, 5, 6, 7, 8, 9]"
   ]
  },
  {
   "cell_type": "markdown",
   "metadata": {},
   "source": [
    "# <font color='green'>ANS:"
   ]
  },
  {
   "cell_type": "code",
   "execution_count": 1,
   "metadata": {},
   "outputs": [
    {
     "name": "stdout",
     "output_type": "stream",
     "text": [
      "[0, 1, 2, 3, 4, 5, 6, 7, 8, 9]\n"
     ]
    }
   ],
   "source": [
    "raw = [1,2,3,4,5,6,7,8,9,0]\n",
    "b = raw.pop()      #pop() 刪除並回覆串列的最後項目\n",
    "raw.insert(0, b)   #insert() 在第N個位置插入項目\n",
    "print(raw)"
   ]
  },
  {
   "cell_type": "markdown",
   "metadata": {},
   "source": [
    "# <font color='red'>練習6：[1, 2, 3, 4, 5, 6, 7, 8, 9, 0] 變成 [2, 3, 4, 5, 6, 7, 8, 9, 0, 1]"
   ]
  },
  {
   "cell_type": "markdown",
   "metadata": {},
   "source": [
    "# <font color='green'>ANS:"
   ]
  },
  {
   "cell_type": "code",
   "execution_count": 2,
   "metadata": {},
   "outputs": [
    {
     "name": "stdout",
     "output_type": "stream",
     "text": [
      "[2, 3, 4, 5, 6, 7, 8, 9, 0, 1]\n"
     ]
    }
   ],
   "source": [
    "raw = [1,2,3,4,5,6,7,8,9,0]\n",
    "raw = raw[1:] + [raw[0]]   #取raw第1字元以後 + 第0字元\n",
    "print(raw)"
   ]
  },
  {
   "cell_type": "markdown",
   "metadata": {},
   "source": [
    "# <font color='red'>練習7：整合不同字典"
   ]
  },
  {
   "cell_type": "markdown",
   "metadata": {},
   "source": [
    "# <font color='green'>ANS:"
   ]
  },
  {
   "cell_type": "code",
   "execution_count": 91,
   "metadata": {},
   "outputs": [
    {
     "name": "stdout",
     "output_type": "stream",
     "text": [
      "{1: 10, 2: 20, 3: 30, 4: 40, 5: 50, 6: 60}\n"
     ]
    }
   ],
   "source": [
    "dic1={1:10, 2:20}\n",
    "dic2={3:30, 4:40}\n",
    "dic3={5:50, 6:60}\n",
    "\n",
    "dic = dict(list(dic1.items()) + list(dic2.items()) + list(dic3.items()))\n",
    "print(dic)"
   ]
  },
  {
   "cell_type": "markdown",
   "metadata": {},
   "source": [
    "# <font color='red'>練習8：將列表 [1, 2, 3, 4, 5, 6, 7, 8, 9, 0] 偶數放前，奇數放後\n",
    "# <font color='red'>變成 [2, 4, 6, 8, 0, 1, 3, 5, 7, 9]"
   ]
  },
  {
   "cell_type": "markdown",
   "metadata": {},
   "source": [
    "# <font color='green'>ANS:"
   ]
  },
  {
   "cell_type": "code",
   "execution_count": 11,
   "metadata": {},
   "outputs": [
    {
     "name": "stdout",
     "output_type": "stream",
     "text": [
      "[2, 4, 6, 8, 0, 1, 3, 5, 7, 9]\n"
     ]
    }
   ],
   "source": [
    "xa = [1,2,3,4,5,6,7,8,9,0]\n",
    "x1=[]\n",
    "x2=[]\n",
    "\n",
    "for i in xa:\n",
    "    if i % 2 == 0 :     # 如果除 2 後餘數為 0，就是  True\n",
    "        x1.append(i)\n",
    "    else:    \n",
    "        x2.append(i)\n",
    "\n",
    "print(x1 + x2)"
   ]
  },
  {
   "cell_type": "markdown",
   "metadata": {},
   "source": [
    "# <font color='blue'>有沒有 == 0 的判斷式，結果有差別！"
   ]
  },
  {
   "cell_type": "code",
   "execution_count": 10,
   "metadata": {},
   "outputs": [
    {
     "name": "stdout",
     "output_type": "stream",
     "text": [
      "[1, 3, 5, 7, 9, 2, 4, 6, 8, 0]\n"
     ]
    }
   ],
   "source": [
    "xa = [1,2,3,4,5,6,7,8,9,0]\n",
    "x1=[]\n",
    "x2=[]\n",
    "\n",
    "for i in xa:\n",
    "    if i % 2:         # 如果除 2 後餘數為 0，就是 Flase\n",
    "        x1.append(i)\n",
    "    else:    \n",
    "        x2.append(i)\n",
    "        \n",
    "print(x1 + x2)"
   ]
  },
  {
   "cell_type": "markdown",
   "metadata": {},
   "source": [
    "# <font color='blue'>使用 if not的比較式，也可以達到原本結果"
   ]
  },
  {
   "cell_type": "code",
   "execution_count": 12,
   "metadata": {},
   "outputs": [
    {
     "name": "stdout",
     "output_type": "stream",
     "text": [
      "[2, 4, 6, 8, 0, 1, 3, 5, 7, 9]\n"
     ]
    }
   ],
   "source": [
    "xa = [1,2,3,4,5,6,7,8,9,0]\n",
    "x1=[]\n",
    "x2=[]\n",
    "\n",
    "for i in xa:\n",
    "    if not i % 2 :  # 如果不是被 2 整除，就是 True\n",
    "        x1.append(i)\n",
    "    else:    \n",
    "        x2.append(i)\n",
    "\n",
    "print(x1 + x2)"
   ]
  },
  {
   "cell_type": "markdown",
   "metadata": {},
   "source": [
    "# <font color='red'>練習9：在數學，用n! 來表示階乘，例如，4! =1×2×3×4 =24。\n",
    "# <font color='red'>請寫一個程式，讓使用者輸入n，印出n!"
   ]
  },
  {
   "cell_type": "markdown",
   "metadata": {},
   "source": [
    "## <font color='red'>練習9-1：使用 for 迴圈"
   ]
  },
  {
   "cell_type": "markdown",
   "metadata": {},
   "source": [
    "# <font color='green'>ANS:"
   ]
  },
  {
   "cell_type": "code",
   "execution_count": 15,
   "metadata": {},
   "outputs": [
    {
     "name": "stdout",
     "output_type": "stream",
     "text": [
      "請輸入數字: 4\n",
      "[1, 2, 3, 4]\n",
      "4 != 24\n"
     ]
    }
   ],
   "source": [
    "nums = int(input('請輸入數字: '))\n",
    "d=[]\n",
    "\n",
    "for i in range(nums):\n",
    "    d.append(i+1)\n",
    "print(d)\n",
    "\n",
    "answer = 1\n",
    "\n",
    "for num in d:\n",
    "    answer = answer * num\n",
    "print(d[-1], '!=', answer)"
   ]
  },
  {
   "cell_type": "markdown",
   "metadata": {},
   "source": [
    "# <font color='blue'>for 迴圈，另一種簡單寫法"
   ]
  },
  {
   "cell_type": "code",
   "execution_count": 16,
   "metadata": {},
   "outputs": [
    {
     "name": "stdout",
     "output_type": "stream",
     "text": [
      "請輸入數字: 4\n",
      "4 != 24\n"
     ]
    }
   ],
   "source": [
    "nums = int(input('請輸入數字: '))\n",
    "sum = 1\n",
    "total = 0\n",
    "for i in range(1, nums+1):\n",
    "    sum *= i\n",
    "    total += sum\n",
    "print(nums, '!=', answer)"
   ]
  },
  {
   "cell_type": "markdown",
   "metadata": {},
   "source": [
    "## <font color='red'>練習9-2：使用 while 迴圈"
   ]
  },
  {
   "cell_type": "markdown",
   "metadata": {},
   "source": [
    "# <font color='green'>ANS:"
   ]
  },
  {
   "cell_type": "code",
   "execution_count": 17,
   "metadata": {},
   "outputs": [
    {
     "name": "stdout",
     "output_type": "stream",
     "text": [
      "請輸入數字: 4\n",
      "4 != 24\n"
     ]
    }
   ],
   "source": [
    "nums = int(input('請輸入數字: '))\n",
    "\n",
    "def fact(n):\n",
    "    r = 1\n",
    "    i = 1\n",
    "    while i <= n:\n",
    "        r *= i\n",
    "        i += 1\n",
    "    return r\n",
    "\n",
    "total = fact(nums)\n",
    "print(nums, '!=', total)"
   ]
  },
  {
   "cell_type": "markdown",
   "metadata": {},
   "source": [
    "# <font color='red'>練習10：計算字符出現次數"
   ]
  },
  {
   "cell_type": "markdown",
   "metadata": {},
   "source": [
    "練習字串 <font color='red'>'Please count the character here.' </font>\n",
    "\n",
    "output\n",
    "\n",
    "{'P': 1, 'l': 1, 'e': 6, 'a': 3, 's': 1, ' ': 4, 'c': 3, 'o': 1, 'u': 1, 'n': 1, 't': 3, 'h': 3, 'r': 3, '.': 1}"
   ]
  },
  {
   "cell_type": "markdown",
   "metadata": {},
   "source": [
    "# <font color='green'>ANS:"
   ]
  },
  {
   "cell_type": "code",
   "execution_count": 1,
   "metadata": {},
   "outputs": [
    {
     "name": "stdout",
     "output_type": "stream",
     "text": [
      "{'P': 1, 'l': 1, 'e': 6, 'a': 3, 's': 1, ' ': 4, 'c': 3, 'o': 1, 'u': 1, 'n': 1, 't': 3, 'h': 3, 'r': 3, '.': 1}\n"
     ]
    }
   ],
   "source": [
    "a ='Please count the character here.'\n",
    "d={}\n",
    "\n",
    "for i in a:\n",
    "    if i in d:\n",
    "        d[i] = d[i]+1\n",
    "    else:\n",
    "        d[i]=1\n",
    "print(d)"
   ]
  },
  {
   "cell_type": "markdown",
   "metadata": {},
   "source": [
    "# <font color='red'>練習11：找到字符所在的位置"
   ]
  },
  {
   "cell_type": "markdown",
   "metadata": {},
   "source": [
    "練習字串 <font color='red'>'Here are UPPERCASE and lowercase chars.' </font>\n",
    "\n",
    "output\n",
    "\n",
    "{'H': [1], 'e': [2, 4, 8, 27, 32], 'r': [3, 7, 28, 37], ' ': [5, 9, 19, 23, 33], 'a': [6, 20, 30, 36], 'U': [10], 'P': [11, 12], 'E': [13, 18], 'R': [14], 'C': [15], 'A': [16], 'S': [17], 'n': [21], 'd': [22], 'l': [24], 'o': [25], 'w': [26], 'c': [29, 34], 's': [31, 38], 'h': [35], '.': [39]}"
   ]
  },
  {
   "cell_type": "markdown",
   "metadata": {},
   "source": [
    "# <font color='green'>ANS:"
   ]
  },
  {
   "cell_type": "code",
   "execution_count": 2,
   "metadata": {},
   "outputs": [
    {
     "name": "stdout",
     "output_type": "stream",
     "text": [
      "{'H': [1], 'e': [2, 4, 8, 27, 32], 'r': [3, 7, 28, 37], ' ': [5, 9, 19, 23, 33], 'a': [6, 20, 30, 36], 'U': [10], 'P': [11, 12], 'E': [13, 18], 'R': [14], 'C': [15], 'A': [16], 'S': [17], 'n': [21], 'd': [22], 'l': [24], 'o': [25], 'w': [26], 'c': [29, 34], 's': [31, 38], 'h': [35], '.': [39]}\n"
     ]
    }
   ],
   "source": [
    "s ='Here are UPPERCASE and lowercase chars.'\n",
    "d = {}    # 空集合：無序且包含不可以重複元素的組合\n",
    "\n",
    "for count, c in enumerate(s):\n",
    "    d.setdefault(c, [])\n",
    "    d[c].append(count+1)\n",
    "        \n",
    "print(d)"
   ]
  },
  {
   "cell_type": "markdown",
   "metadata": {},
   "source": [
    "# <font color='blue'>ANS:補充：輸入字符，回傳位置"
   ]
  },
  {
   "cell_type": "code",
   "execution_count": 3,
   "metadata": {},
   "outputs": [
    {
     "name": "stdout",
     "output_type": "stream",
     "text": [
      "請輸入尋找的字母:e\n",
      "e 2\n",
      "e 4\n",
      "e 8\n",
      "e 27\n",
      "e 32\n"
     ]
    }
   ],
   "source": [
    "str_1='Here are UPPERCASE and lowercase chars.'\n",
    "char_1=str(input('請輸入尋找的字母:'))\n",
    "count=1\n",
    "str_list=list(str_1)\n",
    "for each_char in str_list:\n",
    "    count+=1\n",
    "    if each_char==char_1:\n",
    "        print(each_char,count-1)"
   ]
  },
  {
   "cell_type": "markdown",
   "metadata": {},
   "source": [
    "# <font color='red'>練習12：\n",
    "<font color='red'>1. 取出班次一的每一個時間\n",
    "\n",
    "<font color='red'>2.將班次一的每一個時間用一種資料型態保存\n",
    "\n",
    "<font color='red'>3.將班次一到五與其所有時間用一種資料型態個別保存\n",
    "\n",
    "<font color='red'>4.依據上述動作將班次一到班次五都存在同一個變數中\n",
    "\n",
    "<font color='red'>5.計算班次一到班次五個別的開車時間與平均開車時間"
   ]
  },
  {
   "cell_type": "markdown",
   "metadata": {},
   "source": [
    "## <font color='red'>1. 取出班次一的每一個時間"
   ]
  },
  {
   "cell_type": "markdown",
   "metadata": {},
   "source": [
    "# <font color='green'>ANS:"
   ]
  },
  {
   "cell_type": "code",
   "execution_count": 35,
   "metadata": {},
   "outputs": [
    {
     "name": "stdout",
     "output_type": "stream",
     "text": [
      "['06:30', '06:32', '06:33', '06:34', '06:36', '06:38', '06:39', '06:41', '06:42', '06:43', '06:44', '06:45', '06:46', '06:47', '06:48', '06:49', '06:50', '06:51', '06:53', '06:55', '06:57', '06:58', '07:00', '07:01', '07:03', '07:05', '07:07', '07:09', '07:10', '07:12', '07:14', '07:16', '07:18', '07:20', '07:21', '07:23', '07:24', '07:25', '07:00', '07:02', '07:03', '07:04', '07:06', '07:08', '07:09', '07:11', '07:12', '07:13', '07:14', '07:15', '07:16', '07:17', '07:18', '07:19', '07:20', '07:21', '07:23', '07:25', '07:27', '07:28', '07:30', '07:31', '07:33', '07:35', '07:37', '07:39', '07:40', '07:42', '07:44', '07:46', '07:48', '07:49', '07:51', '07:53', '07:54', '07:55']\n"
     ]
    }
   ],
   "source": [
    "with open('./data/51.csv', newline='', encoding = 'utf-8-sig') as csvfile:   # encoding = 'utf-8-sig' 可解決無法讀中文字的問題\n",
    "    rows = csv.reader(csvfile)\n",
    "    l = {5: '班次1', 6: '班次2', 7: '班次3', 8: '班次4', 9: '班次5'}\n",
    "    d = {}\n",
    "    \n",
    "    for index, row in enumerate(rows):\n",
    "        for i in range(5, 10):\n",
    "            if index == 0:\n",
    "                d.setdefault(l[i], [])\n",
    "            else:\n",
    "                d[l[i]].append(row[i])\n",
    "\n",
    "print(d['班次1'])"
   ]
  },
  {
   "cell_type": "markdown",
   "metadata": {},
   "source": [
    "## <font color='red'>2.將班次一的每一個時間用一種資料型態保存"
   ]
  },
  {
   "cell_type": "markdown",
   "metadata": {},
   "source": [
    "# <font color='green'>ANS:"
   ]
  },
  {
   "cell_type": "code",
   "execution_count": 28,
   "metadata": {},
   "outputs": [
    {
     "name": "stdout",
     "output_type": "stream",
     "text": [
      "['班次1', '06:30', '06:32', '06:33', '06:34', '06:36', '06:38', '06:39', '06:41', '06:42', '06:43', '06:44', '06:45', '06:46', '06:47', '06:48', '06:49', '06:50', '06:51', '06:53', '06:55', '06:57', '06:58', '07:00', '07:01', '07:03', '07:05', '07:07', '07:09', '07:10', '07:12', '07:14', '07:16', '07:18', '07:20', '07:21', '07:23', '07:24', '07:25', '07:00', '07:02', '07:03', '07:04', '07:06', '07:08', '07:09', '07:11', '07:12', '07:13', '07:14', '07:15', '07:16', '07:17', '07:18', '07:19', '07:20', '07:21', '07:23', '07:25', '07:27', '07:28', '07:30', '07:31', '07:33', '07:35', '07:37', '07:39', '07:40', '07:42', '07:44', '07:46', '07:48', '07:49', '07:51', '07:53', '07:54', '07:55']\n"
     ]
    }
   ],
   "source": [
    "import csv\n",
    "\n",
    "bus1= []\n",
    "reader = csv.reader(f.spl# <font color='green'>ANS:it('\\n'), delimiter=',')\n",
    "\n",
    "for rows in reader:\n",
    "    if rows:\n",
    "        bus1.append(rows[5])\n",
    "\n",
    "print(bus1)"
   ]
  },
  {
   "cell_type": "markdown",
   "metadata": {},
   "source": [
    "## <font color='red'>3.將班次一到五與其所有時間用一種資料型態個別保存"
   ]
  },
  {
   "cell_type": "markdown",
   "metadata": {},
   "source": [
    "# <font color='green'>ANS:"
   ]
  },
  {
   "cell_type": "code",
   "execution_count": null,
   "metadata": {},
   "outputs": [],
   "source": []
  },
  {
   "cell_type": "markdown",
   "metadata": {},
   "source": [
    "## <font color='red'>4.依據上述動作將班次一到班次五都存在同一個變數中"
   ]
  },
  {
   "cell_type": "markdown",
   "metadata": {},
   "source": [
    "# <font color='green'>ANS:"
   ]
  },
  {
   "cell_type": "code",
   "execution_count": null,
   "metadata": {},
   "outputs": [],
   "source": []
  },
  {
   "cell_type": "markdown",
   "metadata": {},
   "source": [
    "## <font color='red'>5.計算班次一到班次五個別的開車時間與平均開車時間"
   ]
  },
  {
   "cell_type": "markdown",
   "metadata": {},
   "source": [
    "# <font color='green'>ANS:"
   ]
  },
  {
   "cell_type": "markdown",
   "metadata": {},
   "source": [
    "# <font color='red'>練習13：\n",
    "<font color='red'>1. 請問高雄市有多少地區有溫度資料？\n",
    "\n",
    "<font color='red'>2.請取出每一個地區所記錄的第一個時間點跟溫度\n",
    "\n",
    "<font color='red'>3.請取出第一個地區所記錄的每一個時間點跟溫度\n",
    "\n",
    "<font color='red'>4.依據上述動作用一個最適合的資料型態做儲存\n",
    "\n",
    "<font color='red'>5.以上都只考慮高雄市，如何加入其他地區的資料？"
   ]
  },
  {
   "cell_type": "markdown",
   "metadata": {},
   "source": [
    "## <font color='red'>1. 請問高雄市有多少地區有溫度資料？"
   ]
  },
  {
   "cell_type": "markdown",
   "metadata": {},
   "source": [
    "# <font color='green'>ANS:"
   ]
  },
  {
   "cell_type": "code",
   "execution_count": null,
   "metadata": {},
   "outputs": [],
   "source": []
  },
  {
   "cell_type": "markdown",
   "metadata": {},
   "source": [
    "## <font color='red'>2. 請取出每一個地區所記錄的第一個時間點跟溫度"
   ]
  },
  {
   "cell_type": "markdown",
   "metadata": {},
   "source": [
    "# <font color='green'>ANS:"
   ]
  },
  {
   "cell_type": "code",
   "execution_count": null,
   "metadata": {},
   "outputs": [],
   "source": []
  },
  {
   "cell_type": "markdown",
   "metadata": {},
   "source": [
    "## <font color='red'>3. 請取出第一個地區所記錄的每一個時間點跟溫度"
   ]
  },
  {
   "cell_type": "markdown",
   "metadata": {},
   "source": [
    "# <font color='green'>ANS:"
   ]
  },
  {
   "cell_type": "code",
   "execution_count": null,
   "metadata": {},
   "outputs": [],
   "source": []
  },
  {
   "cell_type": "markdown",
   "metadata": {},
   "source": [
    "## <font color='red'>4. 依據上述動作用一個最適合的資料型態做儲存"
   ]
  },
  {
   "cell_type": "markdown",
   "metadata": {},
   "source": [
    "# <font color='green'>ANS:"
   ]
  },
  {
   "cell_type": "code",
   "execution_count": null,
   "metadata": {},
   "outputs": [],
   "source": []
  },
  {
   "cell_type": "markdown",
   "metadata": {},
   "source": [
    "## <font color='red'>5. 以上都只考慮高雄市，如何加入其他地區的資料？"
   ]
  },
  {
   "cell_type": "markdown",
   "metadata": {},
   "source": [
    "# <font color='green'>ANS:"
   ]
  },
  {
   "cell_type": "code",
   "execution_count": null,
   "metadata": {},
   "outputs": [],
   "source": []
  },
  {
   "cell_type": "markdown",
   "metadata": {},
   "source": [
    "# <font color='red' size=12>驗收測驗"
   ]
  },
  {
   "cell_type": "markdown",
   "metadata": {},
   "source": [
    "## <font color='red'>1. list 跟dict 最主要的差別是什麼？"
   ]
  },
  {
   "cell_type": "markdown",
   "metadata": {},
   "source": [
    "# <font color='green'>ANS:\n",
    "## <font color='green'>list : 有序且可變的\n",
    "## <font color='green'>dict : Key - Value 對應的組合"
   ]
  },
  {
   "cell_type": "markdown",
   "metadata": {},
   "source": [
    "## <font color='red'>2. 請問sorted(list) 跟list.sort() 這兩種使用函式的方法有什麼不一樣？"
   ]
  },
  {
   "cell_type": "markdown",
   "metadata": {},
   "source": [
    "# <font color='green'>ANS:\n",
    "## <font color='green'>sorted()函數：會返回一個排序後的列表，原有列表保持不變\n",
    "## <font color='green'>sort()函數：會直接修改原有列表，函數返回為None"
   ]
  },
  {
   "cell_type": "markdown",
   "metadata": {},
   "source": [
    "## <font color='red'>3. 如果從dict 中access 一個不存在的key 會出現什麼問題？該怎麼解決？"
   ]
  },
  {
   "cell_type": "markdown",
   "metadata": {},
   "source": [
    "# <font color='green'>ANS:\n",
    "## <font color='green'>except KeyError:\n",
    "## <font color='green'>print \"has no key\""
   ]
  },
  {
   "cell_type": "markdown",
   "metadata": {},
   "source": [
    "## <font color='red'>4. 常見的資料來源有哪幾種？"
   ]
  },
  {
   "cell_type": "markdown",
   "metadata": {},
   "source": [
    "# <font color='green'>ANS: 1.檔案 2.API 3.網頁爬蟲"
   ]
  },
  {
   "cell_type": "markdown",
   "metadata": {},
   "source": [
    "## <font color='red'>5. 檔案有哪些儲存的格式？"
   ]
  },
  {
   "cell_type": "markdown",
   "metadata": {},
   "source": [
    "# <font color='green'>ANS: XML . CSV . JSON"
   ]
  },
  {
   "cell_type": "markdown",
   "metadata": {},
   "source": [
    "## <font color='red'>6. 什麼是API？什麼是JSON？"
   ]
  },
  {
   "cell_type": "markdown",
   "metadata": {},
   "source": [
    "# <font color='green'>ANS:\n",
    "## <font color='green'>API 是開放接口 \n",
    "## <font color='green'>JSON 物件格式，是一種延伸自 JavaScipt 物件來儲存和交換簡單結構的輕量級純文字資料交換格式"
   ]
  },
  {
   "cell_type": "markdown",
   "metadata": {},
   "source": [
    "## <font color='red'>7.實作題：從政府開放平台任意挑選一個檔案，並利用Python 下載然後存取其中的資料印出"
   ]
  },
  {
   "cell_type": "markdown",
   "metadata": {},
   "source": [
    "# [政府開放平台](https://data.gov.tw/)"
   ]
  },
  {
   "cell_type": "markdown",
   "metadata": {},
   "source": [
    "# <font color='green'>ANS:"
   ]
  },
  {
   "cell_type": "code",
   "execution_count": 5,
   "metadata": {},
   "outputs": [
    {
     "name": "stdout",
     "output_type": "stream",
     "text": [
      "<class 'str'>\n",
      "['年份別', '有效樣本數', '合計 (%)', '男性 (%)', '女性 (%)']\n",
      "['民國94-97年', '1,577', '8.5', '10.4', '6.6']\n",
      "['民國102-103年', '1,460', '13.2', '16.2', '10.5']\n",
      "['民國102-104年', '2195', '12.3', '14.5', '10.4']\n",
      "[]\n"
     ]
    }
   ],
   "source": [
    "\n",
    "# 下載檔案\n",
    "import urllib.request\n",
    "import zipfile \n",
    "res = \"https://drive.google.com/uc?export=download&confirm=jeak&id=1ggm5IJS2ATjiWg4e205nJQrmPzJu1MjJ\"\n",
    "urllib.request.urlretrieve(res, './181223-test.csv')\n",
    "\n",
    "# 讀檔案\n",
    "fh = open(\"./181223-test.csv\", newline='')\n",
    "f = fh.read()\n",
    "fh.close()\n",
    "\n",
    "print(type(f))\n",
    "\n",
    "# 解析檔案內容\n",
    "import csv\n",
    "reader = csv.reader(f.split('\\n'), delimiter=',')\n",
    "for row in list(reader):\n",
    "    print(row)"
   ]
  },
  {
   "cell_type": "markdown",
   "metadata": {},
   "source": [
    "## <font color='red'>8. 實作題：利用 Dcard API回答「請問 Dcard 總共有幾個看板？」"
   ]
  },
  {
   "cell_type": "markdown",
   "metadata": {},
   "source": [
    "# [Dcard](https://www.dcard.tw/_api/forums)"
   ]
  },
  {
   "cell_type": "markdown",
   "metadata": {},
   "source": [
    "# <font color='green'>ANS:"
   ]
  },
  {
   "cell_type": "code",
   "execution_count": 7,
   "metadata": {},
   "outputs": [
    {
     "name": "stdout",
     "output_type": "stream",
     "text": [
      "247\n"
     ]
    }
   ],
   "source": [
    "import requests\n",
    "\n",
    "headers = {\n",
    "    'user-agent': 'Mozilla/5.0 (Macintosh; Intel Mac OS X 10_13_6) AppleWebKit/537.36 (KHTML, like Gecko) Chrome/71.0.3578.98 Safari/537.36'\n",
    "}\n",
    "r = requests.get('https://www.dcard.tw/_api/forums', headers=headers)\n",
    "\n",
    "import json\n",
    "\n",
    "print(len(json.loads(r.text)))"
   ]
  }
 ],
 "metadata": {
  "kernelspec": {
   "display_name": "Python 3",
   "language": "python",
   "name": "python3"
  },
  "language_info": {
   "codemirror_mode": {
    "name": "ipython",
    "version": 3
   },
   "file_extension": ".py",
   "mimetype": "text/x-python",
   "name": "python",
   "nbconvert_exporter": "python",
   "pygments_lexer": "ipython3",
   "version": "3.7.0"
  }
 },
 "nbformat": 4,
 "nbformat_minor": 2
}

{
 "cells": [
  {
   "cell_type": "code",
   "execution_count": 33,
   "metadata": {},
   "outputs": [],
   "source": [
    "import xlwings as xw\n",
    "\n",
    "workbook = xw.Book(r'D:\\\\python\\\\python_excel_test.xlsm')\n",
    "\n",
    "sheet = workbook.sheets['工作表1']\n",
    "sheet.cells(1, \"A\").value = \"Hello World!\"\n",
    "\n",
    "for i in range(1,10):\n",
    "    sheet.cells(2, 1+i).value = i\n",
    "    sheet.cells(2, 1+i).color = (55, 95, 205)\n",
    "    \n",
    "    for j in range(1,10):\n",
    "        sheet.cells(2+j, 1).value = j\n",
    "        sheet.cells(2+j, 1).color =  (55, 95, 205)\n",
    "        sheet.cells(2+j, 1+i).value = i * j\n",
    "        \n",
    "        if sheet.cells(2+j, 1+i).value > 27:\n",
    "            sheet.cells(2+j, 1+i).color = (204, 34 , 48)\n",
    "        elif sheet.cells(2+j, 1+i).value > 13:\n",
    "            sheet.cells(2+j, 1+i).color = (255, 254 , 90)\n",
    "        else:\n",
    "            sheet.cells(2+j, 1+i).color = (121, 255 , 118)"
   ]
  }
 ],
 "metadata": {
  "kernelspec": {
   "display_name": "Python 3",
   "language": "python",
   "name": "python3"
  },
  "language_info": {
   "codemirror_mode": {
    "name": "ipython",
    "version": 3
   },
   "file_extension": ".py",
   "mimetype": "text/x-python",
   "name": "python",
   "nbconvert_exporter": "python",
   "pygments_lexer": "ipython3",
   "version": "3.7.0"
  }
 },
 "nbformat": 4,
 "nbformat_minor": 2
}

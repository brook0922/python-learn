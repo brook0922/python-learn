{
 "cells": [
  {
   "cell_type": "code",
   "execution_count": 4,
   "metadata": {},
   "outputs": [
    {
     "name": "stdout",
     "output_type": "stream",
     "text": [
      "請輸入目標值: 目標值\n",
      "成長102\n"
     ]
    }
   ],
   "source": [
    "InputMessage = input(\"請輸入目標值: \")\n",
    "if \"目標值\" in InputMessage and len(InputMessage) >3:\n",
    "    NewInputMessage = \"\"\n",
    "    NewInputMessage += InputMessage.replace(\"目標值\",\"\")\n",
    "elif InputMessage ==  \"目標值\":\n",
    "    NewInputMessage\n",
    "print(NewInputMessage)"
   ]
  },
  {
   "cell_type": "code",
   "execution_count": null,
   "metadata": {},
   "outputs": [],
   "source": []
  }
 ],
 "metadata": {
  "kernelspec": {
   "display_name": "Python 3",
   "language": "python",
   "name": "python3"
  },
  "language_info": {
   "codemirror_mode": {
    "name": "ipython",
    "version": 3
   },
   "file_extension": ".py",
   "mimetype": "text/x-python",
   "name": "python",
   "nbconvert_exporter": "python",
   "pygments_lexer": "ipython3",
   "version": "3.7.0"
  }
 },
 "nbformat": 4,
 "nbformat_minor": 2
}
